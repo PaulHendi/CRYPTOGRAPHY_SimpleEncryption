{
 "cells": [
  {
   "cell_type": "code",
   "execution_count": 28,
   "metadata": {},
   "outputs": [],
   "source": [
    "import numpy as np\n",
    "import operator"
   ]
  },
  {
   "cell_type": "markdown",
   "metadata": {},
   "source": [
    "Let's encrypt a message, we can do it simply by changing every letter into the next one : \n",
    "\n",
    "    Original message :  Secrecy \n",
    "    Encrypted message : Tfdsfdz \n",
    "   \n",
    "We will take a text from Wikipedia and see why it is not a good idea to encrypt a message using this method."
   ]
  },
  {
   "cell_type": "code",
   "execution_count": 81,
   "metadata": {},
   "outputs": [
    {
     "name": "stdout",
     "output_type": "stream",
     "text": [
      "A + 1 = B\n",
      "B - A = 1\n",
      "A - 1 = Z\n"
     ]
    }
   ],
   "source": [
    "# Helper functions\n",
    "LETTERS = [\"A\",\"B\",\"C\",\"D\",\"E\",\"F\",\"G\",\"H\",\"I\",\"J\",\"K\",\"L\",\"M\",\"N\",\"O\",\"P\",\"Q\",\"R\",\"S\",\"T\",\"U\",\"V\",\"W\",\"X\",\"Y\",\"Z\"]\n",
    "\n",
    "\n",
    "# Convert a letter to an int (represented by its position in the alphabet)\n",
    "def letter2num(letter) :\n",
    "    return LETTERS.index(letter) + 1\n",
    "\n",
    "\n",
    "# Convert back an int to the corresponding letter in the alphabet\n",
    "def num2Letter(num) :\n",
    "    return LETTERS[num-1]\n",
    "\n",
    "\n",
    "# Switch a letter by adding n to its position in the alphabet\n",
    "def LetterPlusNum(letter, num) : \n",
    "    \n",
    "    letter_num = letter2num(letter)\n",
    "\n",
    "    # np.mod is used to handle cases when the sum is more than 26\n",
    "    addition = np.mod(letter_num+num, 26) \n",
    "    \n",
    "    return num2Letter(addition)\n",
    "\n",
    "\n",
    "# Calculate the difference of position between two letters\n",
    "def diffIndices(letter1, letter2) : \n",
    "\n",
    "    letter1_num = letter2num(letter1)\n",
    "    letter2_num = letter2num(letter2)\n",
    "\n",
    "    diff = np.mod(letter1_num-letter2_num, 26)\n",
    "\n",
    "    return diff\n",
    "\n",
    "\n",
    "# Switch back a letter by substracting n to its position in the alphabet\n",
    "def LetterMinusNum(letter, num) : \n",
    "    \n",
    "    letter_num = letter2num(letter)\n",
    "\n",
    "    # np.mod is used to handle cases when the sub is less than 26\n",
    "    substraction = np.mod(letter_num-num, 26) \n",
    "    \n",
    "    return num2Letter(substraction)\n",
    "\n",
    "\n",
    "# Example\n",
    "print(\"A + 1 = \" + LetterPlusNum(\"A\", 1))\n",
    "print(\"B - A = \" + str(diffIndices(\"B\",\"A\")))\n",
    "print(\"A - 1 = \" + LetterMinusNum(\"A\",1))"
   ]
  },
  {
   "cell_type": "code",
   "execution_count": 54,
   "metadata": {},
   "outputs": [],
   "source": [
    "TEXT2ENCODE = \"Secrecy is the practice of hiding information from certain individuals \" + \\\n",
    "              \"or groups who do not have the need to know perhaps while sharing it with other individuals \" + \\\n",
    "              \"That which is kept hidden is known as the secret Secrecy is often controversial depending \" + \\\n",
    "              \"on the content or nature of the secret the group or people keeping the secret and the motivation \" + \\\n",
    "              \"for secrecy Secrecy by government entities is often decried as excessive or in promotion \" + \\\n",
    "              \"of poor operation excessive revelation of information on individuals can conflict with virtues \" + \\\n",
    "              \"of privacy and confidentiality It is often contrasted with social transparency Secrecy can exist \" + \\\n",
    "              \"in a number of different ways encoding or encryption where mathematical and technical strategies \" + \\\n",
    "              \"are used to hide messages true secrecy where restrictions are put upon those who take part of the \" + \\\n",
    "              \"message such as through government security classification and obfuscation where secrets are hidden \" + \\\n",
    "              \"in plain sight behind complex idiosyncratic language or steganography\"\n",
    "\n",
    "# Prepare the message to be encrypted (Upper case and white spaces removed)\n",
    "text2Encode = TEXT2ENCODE.upper().replace(\" \", \"\")"
   ]
  },
  {
   "cell_type": "code",
   "execution_count": 64,
   "metadata": {},
   "outputs": [
    {
     "name": "stdout",
     "output_type": "stream",
     "text": [
      "TFDSFDZJTUIFQSBDUJDFPGIJEJOHJOGPSNBUJPOGSPNDFSUBJOJOEJWJEVBMTPSHSPVQTXIPEPOPUIBWFUIFOFFEUPLOPXQFSIBQTXIJMFTIBSJOHJUXJUIPUIFSJOEJWJEVBMTUIBUXIJDIJTLFQUIJEEFOJTLOPXOBTUIFTFDSFUTFDSFDZJTPGUFODPOUSPWFSTJBMEFQFOEJOHPOUIFDPOUFOUPSOBUVSFPGUIFTFDSFUUIFHSPVQPSQFPQMFLFFQJOHUIFTFDSFUBOEUIFNPUJWBUJPOGPSTFDSFDZTFDSFDZCZHPWFSONFOUFOUJUJFTJTPGUFOEFDSJFEBTFYDFTTJWFPSJOQSPNPUJPOPGQPPSPQFSBUJPOFYDFTTJWFSFWFMBUJPOPGJOGPSNBUJPOPOJOEJWJEVBMTDBODPOGMJDUXJUIWJSUVFTPGQSJWBDZBOEDPOGJEFOUJBMJUZJUJTPGUFODPOUSBTUFEXJUITPDJBMUSBOTQBSFODZTFDSFDZDBOFYJTUJOBOVNCFSPGEJGGFSFOUXBZTFODPEJOHPSFODSZQUJPOXIFSFNBUIFNBUJDBMBOEUFDIOJDBMTUSBUFHJFTBSFVTFEUPIJEFNFTTBHFTUSVFTFDSFDZXIFSFSFTUSJDUJPOTBSFQVUVQPOUIPTFXIPUBLFQBSUPGUIFNFTTBHFTVDIBTUISPVHIHPWFSONFOUTFDVSJUZDMBTTJGJDBUJPOBOEPCGVTDBUJPOXIFSFTFDSFUTBSFIJEEFOJOQMBJOTJHIUCFIJOEDPNQMFYJEJPTZODSBUJDMBOHVBHFPSTUFHBOPHSBQIZ\n"
     ]
    }
   ],
   "source": [
    "# Simple encryption : change each letter by the next one in the alphabet\n",
    "\n",
    "textEncoded = \"\"\n",
    "for i, curr_letter in  enumerate(text2Encode) : \n",
    "    textEncoded += LetterPlusNum(curr_letter, 1)\n",
    "\n",
    "\n",
    "print(textEncoded)"
   ]
  },
  {
   "cell_type": "markdown",
   "metadata": {},
   "source": [
    "Now it is true that this is gibberish and it seems rather difficult to find patterns to quickly decode the message.\n",
    "However using the letter frequency method we will see that this is easy."
   ]
  },
  {
   "cell_type": "code",
   "execution_count": 84,
   "metadata": {},
   "outputs": [
    {
     "name": "stdout",
     "output_type": "stream",
     "text": [
      "Occurencies of each letter in the text : \n",
      "{'A': 0, 'B': 0, 'C': 0, 'D': 1, 'E': 1, 'F': 0, 'G': 0, 'H': 1, 'I': 0, 'J': 0, 'K': 0, 'L': 3, 'M': 0, 'N': 0, 'O': 2, 'P': 0, 'Q': 0, 'R': 1, 'S': 0, 'T': 0, 'U': 0, 'V': 0, 'W': 1, 'X': 0, 'Y': 0, 'Z': 0}\n",
      "\n",
      "Most frequent letters :\n",
      "[('L', 30.0), ('O', 20.0), ('D', 10.0), ('E', 10.0), ('H', 10.0), ('R', 10.0), ('W', 10.0), ('A', 0.0), ('B', 0.0), ('C', 0.0), ('F', 0.0), ('G', 0.0), ('I', 0.0), ('J', 0.0), ('K', 0.0), ('M', 0.0), ('N', 0.0), ('P', 0.0), ('Q', 0.0), ('S', 0.0), ('T', 0.0), ('U', 0.0), ('V', 0.0), ('X', 0.0), ('Y', 0.0), ('Z', 0.0)]\n"
     ]
    }
   ],
   "source": [
    "# More helper functions\n",
    "\n",
    "# This function create a dictionnary of occurency of each letters in the text\n",
    "def countLetters(text) :\n",
    "\n",
    "    # We are using the array defined above to initialize the dict\n",
    "    letters_occurencies = {letter:0 for letter in LETTERS}   \n",
    "    for i in text : \n",
    "        letters_occurencies[i]+=1 \n",
    "\n",
    "    return letters_occurencies\n",
    "\n",
    "def sortLettersByFrequency(text) : \n",
    "    \n",
    "    dict_occurency = countLetters(text)\n",
    "    nb_letters = float(len(text))\n",
    "    dict_frequency = {k:float(v/len(text)*100) for k,v in dict_occurency.items()}\n",
    "    sortedLetters = sorted(dict_frequency.items(), key=operator.itemgetter(1), reverse = True)\n",
    "\n",
    "    return sortedLetters\n",
    "\n",
    "\n",
    "\n",
    "# Example \n",
    "MSG = \"HELLO WORLD\".replace(\" \",\"\")\n",
    "print(\"Occurencies of each letter in the text : \")\n",
    "print(countLetters(MSG))\n",
    "print(\"\\nMost frequent letters :\")\n",
    "print(sortLettersByFrequency(MSG))"
   ]
  },
  {
   "cell_type": "markdown",
   "metadata": {},
   "source": [
    "In English the most frequent letter is \"E\" with a frequency of around 12%. So we can match the most frequent letter in the encoded message with E."
   ]
  },
  {
   "cell_type": "code",
   "execution_count": 85,
   "metadata": {},
   "outputs": [
    {
     "name": "stdout",
     "output_type": "stream",
     "text": [
      "Most frequent letters : \n",
      "\n",
      "[('C', 12.738095238095237), ('G', 9.166666666666666), ('R', 8.80952380952381), ('L', 8.214285714285714), ('M', 7.976190476190475), ('P', 7.142857142857142), ('Q', 6.785714285714286), ('Y', 6.428571428571428), ('A', 5.714285714285714), ('F', 4.523809523809524), ('B', 3.4523809523809526), ('N', 2.619047619047619), ('D', 2.380952380952381), ('E', 2.142857142857143), ('S', 2.0238095238095237), ('J', 1.9047619047619049), ('W', 1.7857142857142856), ('K', 1.5476190476190477), ('T', 1.5476190476190477), ('U', 1.5476190476190477), ('I', 0.5952380952380952), ('V', 0.4761904761904762), ('Z', 0.4761904761904762), ('H', 0.0), ('O', 0.0), ('X', 0.0)]\n",
      "\n",
      "Most frequent letter : \n",
      "\n",
      "C\n"
     ]
    }
   ],
   "source": [
    "# We can see here that the letter F has a frequency of 12.74% \n",
    "print(\"Most frequent letters : \\n\")\n",
    "print(sortLettersByFrequency(textEncoded))\n",
    "print(\"\\nMost frequent letter : \\n\")\n",
    "print(sortLettersByFrequency(textEncoded)[0][0])"
   ]
  },
  {
   "cell_type": "code",
   "execution_count": 86,
   "metadata": {},
   "outputs": [
    {
     "name": "stdout",
     "output_type": "stream",
     "text": [
      "Is the message correctly decoded ?\n",
      "True\n"
     ]
    }
   ],
   "source": [
    "# Another helper function\n",
    "\n",
    "textDecoded = \"\"\n",
    "diff = diffIndices(sortLettersByFrequency(textEncoded)[0][0], \"E\")\n",
    "for i, curr_letter in  enumerate(textEncoded) : \n",
    "    textDecoded += LetterMinusNum(curr_letter, diff)\n",
    "\n",
    "\n",
    "print(\"Is the message correctly decoded ?\")\n",
    "print(textDecoded==text2Encode)"
   ]
  },
  {
   "cell_type": "code",
   "execution_count": 87,
   "metadata": {
    "scrolled": true
   },
   "outputs": [
    {
     "name": "stdout",
     "output_type": "stream",
     "text": [
      "\n",
      "Message encoded by switching letters by 2\n",
      "Message succesfully decoded : True\n",
      "\n",
      "Message encoded by switching letters by 3\n",
      "Message succesfully decoded : True\n",
      "\n",
      "Message encoded by switching letters by 4\n",
      "Message succesfully decoded : True\n",
      "\n",
      "Message encoded by switching letters by 5\n",
      "Message succesfully decoded : True\n",
      "\n",
      "Message encoded by switching letters by 6\n",
      "Message succesfully decoded : True\n",
      "\n",
      "Message encoded by switching letters by 7\n",
      "Message succesfully decoded : True\n",
      "\n",
      "Message encoded by switching letters by 8\n",
      "Message succesfully decoded : True\n",
      "\n",
      "Message encoded by switching letters by 9\n",
      "Message succesfully decoded : True\n",
      "\n",
      "Message encoded by switching letters by 10\n",
      "Message succesfully decoded : True\n",
      "\n",
      "Message encoded by switching letters by 11\n",
      "Message succesfully decoded : True\n",
      "\n",
      "Message encoded by switching letters by 12\n",
      "Message succesfully decoded : True\n",
      "\n",
      "Message encoded by switching letters by 13\n",
      "Message succesfully decoded : True\n",
      "\n",
      "Message encoded by switching letters by 14\n",
      "Message succesfully decoded : True\n",
      "\n",
      "Message encoded by switching letters by 15\n",
      "Message succesfully decoded : True\n",
      "\n",
      "Message encoded by switching letters by 16\n",
      "Message succesfully decoded : True\n",
      "\n",
      "Message encoded by switching letters by 17\n",
      "Message succesfully decoded : True\n",
      "\n",
      "Message encoded by switching letters by 18\n",
      "Message succesfully decoded : True\n",
      "\n",
      "Message encoded by switching letters by 19\n",
      "Message succesfully decoded : True\n",
      "\n",
      "Message encoded by switching letters by 20\n",
      "Message succesfully decoded : True\n",
      "\n",
      "Message encoded by switching letters by 21\n",
      "Message succesfully decoded : True\n",
      "\n",
      "Message encoded by switching letters by 22\n",
      "Message succesfully decoded : True\n",
      "\n",
      "Message encoded by switching letters by 23\n",
      "Message succesfully decoded : True\n",
      "\n",
      "Message encoded by switching letters by 24\n",
      "Message succesfully decoded : True\n"
     ]
    }
   ],
   "source": [
    "# Again we can do it but adding more letters for example\n",
    "\n",
    "for n in range(2,25) : \n",
    "    textEncoded = \"\"\n",
    "    for i, curr_letter in  enumerate(text2Encode) : \n",
    "        textEncoded += LetterPlusNum(curr_letter, n)\n",
    "\n",
    "    textDecoded = \"\"\n",
    "    diff = diffIndices(sortLettersByFrequency(textEncoded)[0][0], \"E\")\n",
    "    for i, curr_letter in  enumerate(textEncoded) : \n",
    "        textDecoded += LetterMinusNum(curr_letter, diff)\n",
    "\n",
    "    print(\"\\nMessage encoded by switching letters by \" + str(n))\n",
    "    print(\"Message succesfully decoded : \" + str(textDecoded==text2Encode))"
   ]
  },
  {
   "cell_type": "markdown",
   "metadata": {},
   "source": [
    "No matter by how much we switched the letters in the original message, it is always easy to decode the message\n",
    "using frequencies. Of course this automated method wouldn't work well for smaller message but it wouldn't be\n",
    "difficult to decode it by hand. To get a more robust encoded message we can use a key to encrypt it."
   ]
  },
  {
   "cell_type": "code",
   "execution_count": null,
   "metadata": {},
   "outputs": [],
   "source": []
  }
 ],
 "metadata": {
  "kernelspec": {
   "display_name": "Python 3",
   "language": "python",
   "name": "python3"
  },
  "language_info": {
   "codemirror_mode": {
    "name": "ipython",
    "version": 3
   },
   "file_extension": ".py",
   "mimetype": "text/x-python",
   "name": "python",
   "nbconvert_exporter": "python",
   "pygments_lexer": "ipython3",
   "version": "3.6.9"
  }
 },
 "nbformat": 4,
 "nbformat_minor": 2
}
